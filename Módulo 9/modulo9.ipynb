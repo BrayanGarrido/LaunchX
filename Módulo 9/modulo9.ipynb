{
 "cells": [
  {
   "cell_type": "markdown",
   "metadata": {},
   "source": [
    "# Kata 9"
   ]
  },
  {
   "cell_type": "markdown",
   "metadata": {},
   "source": [
    "# Ejercicio 1"
   ]
  },
  {
   "cell_type": "markdown",
   "metadata": {},
   "source": [
    "Función que lee 3 veces el combustible y devuelve un informe"
   ]
  },
  {
   "cell_type": "code",
   "execution_count": 3,
   "metadata": {},
   "outputs": [],
   "source": [
    "def generateInform(tanquePrincipal,tanqueExterior,tanqueHidrogeno):\n",
    "    promedio = tanquePrincipal+tanqueExterior+tanqueHidrogeno /3\n",
    "    return f\"\"\"Informe de Combustible\n",
    "    Promedio: {promedio}\n",
    "    Tanque Principal: {tanquePrincipal}\n",
    "    Tanque Exterior: {tanqueExterior}\n",
    "    Tanque de Hidrogeno: {tanqueHidrogeno}\"\"\""
   ]
  },
  {
   "cell_type": "markdown",
   "metadata": {},
   "source": [
    "Llamada a la funcion para generar un reporte"
   ]
  },
  {
   "cell_type": "code",
   "execution_count": 4,
   "metadata": {},
   "outputs": [
    {
     "name": "stdout",
     "output_type": "stream",
     "text": [
      "Informe de Combustible\n",
      "    Promedio: 40.666666666666664\n",
      "    Tanque Principal: 10\n",
      "    Tanque Exterior: 20\n",
      "    Tanque de Hidrogeno: 32\n"
     ]
    }
   ],
   "source": [
    "print(generateInform(10,20,32))"
   ]
  },
  {
   "cell_type": "markdown",
   "metadata": {},
   "source": [
    "Actualizar la funcion"
   ]
  },
  {
   "cell_type": "code",
   "execution_count": 5,
   "metadata": {},
   "outputs": [],
   "source": [
    "def generateInform(tanquePrincipal,tanqueExterior,tanqueHidrogeno):\n",
    "    return f\"\"\"Informe de Combustible\n",
    "    Promedio: {tanquePrincipal + tanqueExterior + tanqueHidrogeno /3}\n",
    "    Tanque Principal: {tanquePrincipal}\n",
    "    Tanque Exterior: {tanqueExterior}\n",
    "    Tanque de Hidrogeno: {tanqueHidrogeno}\"\"\""
   ]
  },
  {
   "cell_type": "markdown",
   "metadata": {},
   "source": [
    "Llamada a la funcion"
   ]
  },
  {
   "cell_type": "code",
   "execution_count": 6,
   "metadata": {},
   "outputs": [
    {
     "name": "stdout",
     "output_type": "stream",
     "text": [
      "Informe de Combustible\n",
      "    Promedio: 423.33333333333337\n",
      "    Tanque Principal: 12\n",
      "    Tanque Exterior: 234\n",
      "    Tanque de Hidrogeno: 532\n"
     ]
    }
   ],
   "source": [
    "print(generateInform(12,234,532))"
   ]
  },
  {
   "cell_type": "markdown",
   "metadata": {},
   "source": [
    "# Ejercicio 2"
   ]
  },
  {
   "cell_type": "markdown",
   "metadata": {},
   "source": [
    "Funcion con el informe de la mision"
   ]
  },
  {
   "cell_type": "code",
   "execution_count": 11,
   "metadata": {},
   "outputs": [
    {
     "name": "stdout",
     "output_type": "stream",
     "text": [
      "Reporte de la mision Luna\n",
      "Tiempo total de vuelo: 65 minutos\n",
      "Gasto total de combustible: 500000 galones\n"
     ]
    }
   ],
   "source": [
    "def missionInform(horaLanzamiento,tiempoVuelo,destino,tanqueExterior,tanquePrincipol):\n",
    "    return f\"\"\"Reporte de la mision {destino}\n",
    "Tiempo total de vuelo: {horaLanzamiento+tiempoVuelo} minutos\n",
    "Gasto total de combustible: {tanqueExterior + tanquePrincipol} galones\"\"\"\n",
    "\n",
    "print(missionInform(14,51,\"Luna\", 200000,300000))"
   ]
  },
  {
   "cell_type": "markdown",
   "metadata": {},
   "source": [
    "Funcion mas accesible a los cambios"
   ]
  },
  {
   "cell_type": "code",
   "execution_count": 12,
   "metadata": {},
   "outputs": [
    {
     "name": "stdout",
     "output_type": "stream",
     "text": [
      "Reporte de la mision Luna\n",
      "Tiempo total de vuelo: 76 minutos\n",
      "Gasto total de combustible: 500000 galones\n"
     ]
    }
   ],
   "source": [
    "def missionInform(destino,*minutos,**tanqueReservas):\n",
    "    return f\"\"\"Reporte de la mision {destino}\n",
    "Tiempo total de vuelo: {sum(minutos)} minutos\n",
    "Gasto total de combustible: {sum(tanqueReservas.values())} galones\"\"\"\n",
    "\n",
    "print(missionInform(\"Luna\",10,15,51,principal=300000,exterior=200000))"
   ]
  },
  {
   "cell_type": "markdown",
   "metadata": {},
   "source": [
    "Funcion para obtener el nombre de cada tanque en el informe"
   ]
  },
  {
   "cell_type": "code",
   "execution_count": 13,
   "metadata": {},
   "outputs": [
    {
     "name": "stdout",
     "output_type": "stream",
     "text": [
      "Reporte de la mision Luna\n",
      "Tiempo total de vuelo: 76 minutos\n",
      "Gasto total de combustible: 500000 galonesprincipal Tanque -> 300000 galones \n",
      "exterior Tanque -> 200000 galones \n",
      "\n"
     ]
    }
   ],
   "source": [
    "def missionInform(destino,*minutos,**tanqueReservas):\n",
    "    reportePrincipal =  f\"\"\"Reporte de la mision {destino}\n",
    "Tiempo total de vuelo: {sum(minutos)} minutos\n",
    "Gasto total de combustible: {sum(tanqueReservas.values())} galones\"\"\"\n",
    "    for nombreTanque, galones in tanqueReservas.items():\n",
    "        reportePrincipal += f\"{nombreTanque} Tanque -> {galones} galones \\n\"\n",
    "    return reportePrincipal\n",
    "\n",
    "print(missionInform(\"Luna\",10,15,51,principal=300000,exterior=200000))"
   ]
  }
 ],
 "metadata": {
  "interpreter": {
   "hash": "1c7869c08f86b57b9f2ff25821e5a9ffeefbc47959f3fd27898fa0d1acc6d0b0"
  },
  "kernelspec": {
   "display_name": "Python 3.10.2 64-bit (windows store)",
   "language": "python",
   "name": "python3"
  },
  "language_info": {
   "codemirror_mode": {
    "name": "ipython",
    "version": 3
   },
   "file_extension": ".py",
   "mimetype": "text/x-python",
   "name": "python",
   "nbconvert_exporter": "python",
   "pygments_lexer": "ipython3",
   "version": "3.10.2"
  },
  "orig_nbformat": 4
 },
 "nbformat": 4,
 "nbformat_minor": 2
}
